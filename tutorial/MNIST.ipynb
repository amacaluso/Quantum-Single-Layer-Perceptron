{
 "cells": [
  {
   "cell_type": "code",
   "execution_count": null,
   "metadata": {},
   "outputs": [],
   "source": [
    "from Utils import *\n",
    "from import_data import * "
   ]
  },
  {
   "cell_type": "code",
   "execution_count": null,
   "metadata": {},
   "outputs": [],
   "source": [
    "from keras.datasets import mnist\n",
    "from sklearn.decomposition import PCA\n",
    "\n",
    "(x_train, y_train), (x_test, y_test) = mnist.load_data()\n",
    "print('Traning data shape:', x_train.shape)\n",
    "print('Testing data shape:', x_test.shape)"
   ]
  },
  {
   "cell_type": "code",
   "execution_count": null,
   "metadata": {},
   "outputs": [],
   "source": [
    "# pick a sample to plot\n",
    "sample = 1\n",
    "image = x_train[sample]\n",
    "# plot the sample\n",
    "fig = plt.figure\n",
    "plt.imshow(image, cmap='gray')\n",
    "plt.show()"
   ]
  },
  {
   "cell_type": "code",
   "execution_count": null,
   "metadata": {},
   "outputs": [],
   "source": [
    "num = 10\n",
    "images = x_train[:num]\n",
    "labels = y_train[:num]"
   ]
  },
  {
   "cell_type": "code",
   "execution_count": null,
   "metadata": {},
   "outputs": [],
   "source": [
    "num_row = 2\n",
    "num_col = 5\n",
    "# plot images\n",
    "fig, axes = plt.subplots(num_row, num_col, figsize=(1.5*num_col,2*num_row))\n",
    "for i in range(10):\n",
    "    ax = axes[i//num_col, i%num_col]\n",
    "    ax.imshow(images[i], cmap='gray')\n",
    "    ax.set_title('Label: {}'.format(labels[i]))\n",
    "plt.tight_layout()\n",
    "plt.show()"
   ]
  },
  {
   "cell_type": "code",
   "execution_count": null,
   "metadata": {},
   "outputs": [],
   "source": [
    "x_train.shape"
   ]
  },
  {
   "cell_type": "code",
   "execution_count": null,
   "metadata": {},
   "outputs": [],
   "source": [
    "x_train_flat = x_train.reshape(-1,784)"
   ]
  },
  {
   "cell_type": "code",
   "execution_count": null,
   "metadata": {},
   "outputs": [],
   "source": [
    "feat_cols = ['pixel'+str(i) for i in range(x_train_flat.shape[1])]\n",
    "df_mnist = pd.DataFrame(x_train_flat,columns=feat_cols)"
   ]
  },
  {
   "cell_type": "code",
   "execution_count": null,
   "metadata": {},
   "outputs": [],
   "source": [
    "df_mnist['label'] = y_train"
   ]
  },
  {
   "cell_type": "code",
   "execution_count": null,
   "metadata": {},
   "outputs": [],
   "source": [
    "print('Size of the dataframe: {}'.format(df_mnist.shape))\n",
    "df=df_mnist.sample(frac=.01)\n",
    "del df_mnist"
   ]
  },
  {
   "cell_type": "code",
   "execution_count": null,
   "metadata": {},
   "outputs": [],
   "source": [
    "df.shape"
   ]
  },
  {
   "cell_type": "code",
   "execution_count": null,
   "metadata": {},
   "outputs": [],
   "source": [
    "g = df.groupby('label')\n",
    "df = pd.DataFrame(g.apply(lambda x: x.sample(g.size().min()).reset_index(drop=True)))\n",
    "df.label.value_counts()"
   ]
  },
  {
   "cell_type": "code",
   "execution_count": null,
   "metadata": {},
   "outputs": [],
   "source": [
    "df.head()"
   ]
  },
  {
   "cell_type": "code",
   "execution_count": null,
   "metadata": {},
   "outputs": [],
   "source": [
    "pca_mnist = PCA(n_components=2)\n",
    "principalComponents_mnist = pca_mnist.fit_transform(df.iloc[:,:-1])"
   ]
  },
  {
   "cell_type": "code",
   "execution_count": null,
   "metadata": {},
   "outputs": [],
   "source": [
    "principalComponents_mnist.shape"
   ]
  },
  {
   "cell_type": "code",
   "execution_count": null,
   "metadata": {},
   "outputs": [],
   "source": [
    "data_pca = pd.DataFrame(data = principalComponents_mnist,\n",
    "                        columns = ['x'+str(i) for i in range(principalComponents_mnist.shape[1])])\n",
    "data_pca['Y'] = df.iloc[:,-1:].to_numpy()"
   ]
  },
  {
   "cell_type": "code",
   "execution_count": null,
   "metadata": {},
   "outputs": [],
   "source": [
    "data_pca"
   ]
  },
  {
   "cell_type": "code",
   "execution_count": null,
   "metadata": {},
   "outputs": [],
   "source": [
    "sns.set_theme(style=\"ticks\")\n",
    "sns.pairplot(data_pca, hue=\"Y\")\n",
    "plt.show()"
   ]
  },
  {
   "cell_type": "code",
   "execution_count": null,
   "metadata": {},
   "outputs": [],
   "source": [
    "plt.figure(figsize=(10,6))\n",
    "sns.scatterplot(\n",
    "    x=\"x0\", y=\"x1\",\n",
    "    hue=\"Y\",\n",
    "    palette=sns.color_palette(\"hls\", len(data_pca.Y.unique())),\n",
    "    data=data_pca,\n",
    "    legend=\"full\",\n",
    "    alpha=0.3\n",
    ")"
   ]
  },
  {
   "cell_type": "code",
   "execution_count": null,
   "metadata": {},
   "outputs": [],
   "source": [
    "c0=0\n",
    "c1=3\n",
    "data = data_pca.copy()"
   ]
  },
  {
   "cell_type": "code",
   "execution_count": null,
   "metadata": {},
   "outputs": [],
   "source": [
    "data = data[(data.Y==c0) | (data.Y==c1)]\n",
    "data.Y = ((data.Y)-c0)/c1"
   ]
  },
  {
   "cell_type": "code",
   "execution_count": null,
   "metadata": {},
   "outputs": [],
   "source": [
    "plt.figure(figsize=(10,6))\n",
    "sns.scatterplot(\n",
    "    x=\"x0\", y=\"x1\",\n",
    "    hue=\"Y\",\n",
    "    palette=sns.color_palette(\"hls\", 2),\n",
    "    data=data,\n",
    "    legend=\"full\",\n",
    "    alpha=0.3\n",
    ")"
   ]
  },
  {
   "cell_type": "code",
   "execution_count": null,
   "metadata": {},
   "outputs": [],
   "source": [
    "x_train = data.iloc[:, 0:2].to_numpy()"
   ]
  },
  {
   "cell_type": "code",
   "execution_count": null,
   "metadata": {},
   "outputs": [],
   "source": [
    "X = (x_train-np.min(x_train))/(np.max(x_train)-np.min(x_train))\n",
    "Y = data.Y.to_numpy()"
   ]
  },
  {
   "cell_type": "code",
   "execution_count": null,
   "metadata": {},
   "outputs": [],
   "source": [
    "df = pd.DataFrame(X, columns=['x1', 'x2'])\n",
    "df['Y']=Y\n",
    "plt.figure(figsize=(10,6))\n",
    "sns.scatterplot(\n",
    "    x=\"x1\", y=\"x2\",\n",
    "    hue=\"Y\",\n",
    "    palette=sns.color_palette(\"hls\", 2),\n",
    "    data=df,\n",
    "    legend=\"full\",\n",
    "    alpha=0.3\n",
    ")"
   ]
  },
  {
   "cell_type": "code",
   "execution_count": null,
   "metadata": {},
   "outputs": [],
   "source": [
    "# normalize each input\n",
    "normalization = np.sqrt(np.sum(X ** 2, -1))\n",
    "X_norm = (X.T / normalization).T\n",
    "print(\"First X sample (normalized):\", X_norm[5])"
   ]
  },
  {
   "cell_type": "code",
   "execution_count": null,
   "metadata": {},
   "outputs": [],
   "source": [
    "def get_Sx(ang=None, x=None, pad=False):\n",
    "    backend = Aer.get_backend('unitary_simulator')\n",
    "\n",
    "    if pad==True:\n",
    "        q = QuantumRegister(2)\n",
    "        circuit = QuantumCircuit(q)\n",
    "        circuit = state_preparation(ang, circuit, [0, 1])\n",
    "    elif pad==False:\n",
    "        x = x.astype(complex)\n",
    "        q = QuantumRegister(1)\n",
    "        circuit = QuantumCircuit(q)\n",
    "        circuit.initialize(x, [q])\n",
    "\n",
    "    job = execute(circuit, backend)\n",
    "    result = job.result()\n",
    "    U = result.get_unitary(circuit)\n",
    "    S = Operator(U)\n",
    "    return S"
   ]
  },
  {
   "cell_type": "code",
   "execution_count": null,
   "metadata": {},
   "outputs": [],
   "source": [
    "def linear_operator(param, pad=False):\n",
    "    backend = Aer.get_backend('unitary_simulator')\n",
    "    '''pad variable influences the size of params vector'''\n",
    "    if pad==True:\n",
    "        data = QuantumRegister(2)\n",
    "        qc = QuantumCircuit(data_reg)\n",
    "        qc.u3(param[0], param[1], param[2], data[0])\n",
    "        qc.u3(param[3], param[4], param[5], data[1])\n",
    "        qc.cx(data[0], data[1])\n",
    "    elif pad==False:\n",
    "        data = QuantumRegister(1)\n",
    "        qc = QuantumCircuit(data)\n",
    "        qc.u3(param[0], param[1], param[2], data)\n",
    "\n",
    "    job = execute(qc, backend)\n",
    "    result = job.result()\n",
    "\n",
    "    U = result.get_unitary(qc)\n",
    "    G = Operator(U)\n",
    "    return G\n"
   ]
  },
  {
   "cell_type": "code",
   "execution_count": null,
   "metadata": {},
   "outputs": [],
   "source": [
    "def sigma(pad=False):\n",
    "    backend = Aer.get_backend('unitary_simulator')\n",
    "    if pad==True:\n",
    "        data = QuantumRegister(2)\n",
    "        qc = QuantumCircuit(data)\n",
    "        qc.id(data)\n",
    "    if pad==False:\n",
    "        data = QuantumRegister(1)\n",
    "        qc = QuantumCircuit(data)\n",
    "        qc.id(data)\n",
    "\n",
    "    job = execute(qc, backend)\n",
    "    result = job.result()\n",
    "\n",
    "    U = result.get_unitary(qc)\n",
    "    I = Operator(U)\n",
    "    return I"
   ]
  },
  {
   "cell_type": "code",
   "execution_count": null,
   "metadata": {},
   "outputs": [],
   "source": [
    "def R_gate(beta):\n",
    "    backend = Aer.get_backend('unitary_simulator')\n",
    "    control = QuantumRegister(1)\n",
    "    qc = QuantumCircuit(control)\n",
    "    qc.ry(beta, control)\n",
    "\n",
    "    job = execute(qc, backend)\n",
    "    result = job.result()\n",
    "\n",
    "    U = result.get_unitary(qc)\n",
    "    R = Operator(U)\n",
    "    return R"
   ]
  },
  {
   "cell_type": "code",
   "execution_count": null,
   "metadata": {},
   "outputs": [],
   "source": [
    "def create_circuit(parameters=None, x=None, pad=False):\n",
    "    beta = parameters[0]\n",
    "    theta1 = parameters[1:4]\n",
    "    theta2 = parameters[4:7]\n",
    "\n",
    "    control = QuantumRegister(1, 'control')\n",
    "    data = QuantumRegister(1, 'x')\n",
    "    temp = QuantumRegister(1, 'temp')\n",
    "    c = ClassicalRegister(1)\n",
    "    qc = QuantumCircuit(control, data, temp, c)\n",
    "\n",
    "    S=get_Sx(x=x)\n",
    "    qc.unitary(S, data, label='$S_{x}$')\n",
    "\n",
    "    R=R_gate(beta)\n",
    "    qc.unitary(R, control, label='$R_{Y}(β)$')\n",
    "\n",
    "    qc.barrier()\n",
    "    qc.cswap(control, data, temp)\n",
    "\n",
    "    G1 = linear_operator(theta1)\n",
    "    qc.unitary(G1, data, label='$G(θ_{1})$')\n",
    "\n",
    "    G2 = linear_operator(theta2)\n",
    "    qc.unitary(G2, temp, label='$G(θ_{2})$')\n",
    "\n",
    "    qc.cswap(control, data, temp)\n",
    "    qc.barrier()\n",
    "\n",
    "    sig = sigma()\n",
    "    qc.unitary(sig, data, label='$Σ$')\n",
    "\n",
    "    qc.barrier()\n",
    "    qc.measure(data[0], c)\n",
    "    return qc"
   ]
  },
  {
   "cell_type": "code",
   "execution_count": null,
   "metadata": {},
   "outputs": [],
   "source": [
    "c=create_circuit(parameters=range(7), x=np.array([0,1]))\n",
    "c.draw(output='mpl')"
   ]
  },
  {
   "cell_type": "code",
   "execution_count": null,
   "metadata": {},
   "outputs": [],
   "source": [
    "def execute_circuit(parameters, x=None, shots=1000, print=False):\n",
    "    backend = BasicAer.get_backend('qasm_simulator')\n",
    "\n",
    "    circuit=create_circuit(parameters, x)\n",
    "    if print:\n",
    "        circuit.draw(output='mpl')\n",
    "        plt.show()\n",
    "    result = execute(circuit, backend, shots=shots).result()\n",
    "\n",
    "    counts = result.get_counts(circuit)\n",
    "    result = np.zeros(2)\n",
    "    for key in counts:\n",
    "        result[int(key, 2)] = counts[key]\n",
    "    result /= shots\n",
    "    return result[1]\n",
    "\n",
    "\n",
    "\n",
    "def cost(params, X, labels):\n",
    "    predictions = [execute_circuit(params, x) for x in X]\n",
    "    return binary_crossentropy(labels, predictions)"
   ]
  },
  {
   "cell_type": "code",
   "execution_count": null,
   "metadata": {},
   "outputs": [],
   "source": [
    "X = X_norm.copy()\n",
    "seed = 974 # iris:359, gaussian:527\n",
    "# seed=np.random.randint(0,10**3,1)[0]\n",
    "np.random.seed(seed)\n",
    "current_params = (0.1*np.random.randn(7))\n",
    "\n",
    "from qiskit.aqua.components.optimizers import AQGD\n",
    "optimizer_step = AQGD(maxiter=1, eta=2.0, disp=False)\n",
    "execute_circuit(current_params, x=X[2], print=True)\n",
    "\n",
    "\n",
    "num_data = len(Y)\n",
    "num_train = int(0.75 * num_data)\n",
    "index = np.random.permutation(range(num_data))\n",
    "X_train = X[index[:num_train]]\n",
    "Y_train = Y[index[:num_train]]\n",
    "X_val = X[index[num_train:]]\n",
    "Y_val = Y[index[num_train:]]\n",
    "batch_size = 20\n",
    "T = 20\n",
    "acc_final_tr = 0\n",
    "acc_final_val = 0"
   ]
  },
  {
   "cell_type": "code",
   "execution_count": null,
   "metadata": {},
   "outputs": [],
   "source": [
    "# optimizer_step = AQGD(maxiter=20, eta=2.0, disp=True)\n",
    "\n",
    "# obj_function = lambda params: cost(params, X_train, Y_train)\n",
    "# point, value, nfev = optimizer_step.optimize(len(current_params), obj_function, initial_point=current_params)"
   ]
  },
  {
   "cell_type": "code",
   "execution_count": null,
   "metadata": {},
   "outputs": [],
   "source": [
    "for i in range(T):\n",
    "    batch_index = np.random.randint(0, num_train, (batch_size,))\n",
    "    X_batch = X_train[batch_index]\n",
    "    Y_batch = Y_train[batch_index]\n",
    "\n",
    "    obj_function = lambda params: cost(params, X_batch, Y_batch)\n",
    "    point, value, nfev = optimizer_step.optimize(len(current_params), obj_function,\n",
    "                                                 initial_point=current_params)\n",
    "    current_params = point\n",
    "\n",
    "    # Compute predictions on train and validation set\n",
    "    probs_train = [execute_circuit(point, x) for x in X_train]\n",
    "    probs_val = [execute_circuit(point, x) for x in X_val]\n",
    "\n",
    "    predictions_train = [predict(p) for p in probs_train]\n",
    "    predictions_val = [predict(p) for p in probs_val]\n",
    "\n",
    "    acc_train = accuracy(Y_train, predictions_train)\n",
    "    acc_val = accuracy(Y_val, predictions_val)\n",
    "\n",
    "    if acc_final_tr < acc_train:\n",
    "        best_param = point\n",
    "        acc_final_tr = acc_train\n",
    "        acc_final_val = acc_val\n",
    "        iteration = i\n",
    "        print('i:', i, 'accuracy:', acc_final_tr)\n",
    "    else:\n",
    "        print('i:', i, 'no update')\n",
    "\n",
    "#     print(\n",
    "#         \"Iter: {:5d} | Cost: {:0.7f} | Acc train: {:0.3f} | Acc validation: {:0.3f} \"\n",
    "#         \"\".format(i + 1, cost(point, X_train, Y_train), acc_train, acc_val))"
   ]
  },
  {
   "cell_type": "code",
   "execution_count": null,
   "metadata": {},
   "outputs": [],
   "source": [
    "# point=best_param\n",
    "\n",
    "# probs_train = [execute_circuit(point, x) for x in X_train]\n",
    "# probs_val = [execute_circuit(point, x) for x in X_val]\n",
    "\n",
    "# predictions_train = [predict(p) for p in probs_train]\n",
    "# predictions_val = [predict(p) for p in probs_val]\n",
    "\n",
    "# acc_train = accuracy(Y_train, predictions_train)\n",
    "# acc_val = accuracy(Y_val, predictions_val)\n",
    "\n",
    "# print(\"Final model: Cost: {:0.7f} | Acc train: {:0.3f} | Acc validation: {:0.3f} \"\n",
    "#       \"\".format(cost(point, X_train, Y_train), acc_train, acc_val))"
   ]
  },
  {
   "cell_type": "code",
   "execution_count": null,
   "metadata": {},
   "outputs": [],
   "source": [
    "# probs_train = [execute_circuit(point, x) for x in X_train]\n",
    "# probs_val = [execute_circuit(point, x) for x in X_val]\n",
    "\n",
    "# predictions_train = [predict(p) for p in probs_train]\n",
    "# predictions_val = [predict(p) for p in probs_val]\n",
    "\n",
    "# acc_train = accuracy(Y_train, predictions_train)\n",
    "# acc_val = accuracy(Y_val, predictions_val)\n",
    "\n",
    "# print(\"Final model: Cost: {:0.7f} | Acc train: {:0.3f} | Acc validation: {:0.3f} \"\n",
    "#       \"\".format(cost(current_params, X_train, Y_train), acc_train, acc_val))"
   ]
  },
  {
   "cell_type": "code",
   "execution_count": null,
   "metadata": {},
   "outputs": [],
   "source": [
    "print(\"Final model: Cost: {:0.7f} | Acc train: {:0.3f} | Acc validation: {:0.3f} \"\n",
    "      \"\".format(cost(current_params, X_train, Y_train), acc_final_tr, acc_final_val))"
   ]
  }
 ],
 "metadata": {
  "kernelspec": {
   "display_name": "Python 3",
   "language": "python",
   "name": "python3"
  },
  "language_info": {
   "codemirror_mode": {
    "name": "ipython",
    "version": 3
   },
   "file_extension": ".py",
   "mimetype": "text/x-python",
   "name": "python",
   "nbconvert_exporter": "python",
   "pygments_lexer": "ipython3",
   "version": "3.6.9"
  },
  "toc": {
   "base_numbering": 1,
   "nav_menu": {},
   "number_sections": true,
   "sideBar": true,
   "skip_h1_title": false,
   "title_cell": "Table of Contents",
   "title_sidebar": "Contents",
   "toc_cell": false,
   "toc_position": {},
   "toc_section_display": true,
   "toc_window_display": false
  }
 },
 "nbformat": 4,
 "nbformat_minor": 4
}
