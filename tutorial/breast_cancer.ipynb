{
 "cells": [
  {
   "cell_type": "code",
   "execution_count": 1,
   "metadata": {},
   "outputs": [],
   "source": [
    "from Utils import *\n",
    "from import_data import * "
   ]
  },
  {
   "cell_type": "code",
   "execution_count": 2,
   "metadata": {},
   "outputs": [
    {
     "name": "stdout",
     "output_type": "stream",
     "text": [
      ".. _breast_cancer_dataset:\n",
      "\n",
      "Breast cancer wisconsin (diagnostic) dataset\n",
      "--------------------------------------------\n",
      "\n",
      "**Data Set Characteristics:**\n",
      "\n",
      "    :Number of Instances: 569\n",
      "\n",
      "    :Number of Attributes: 30 numeric, predictive attributes and the class\n",
      "\n",
      "    :Attribute Information:\n",
      "        - radius (mean of distances from center to points on the perimeter)\n",
      "        - texture (standard deviation of gray-scale values)\n",
      "        - perimeter\n",
      "        - area\n",
      "        - smoothness (local variation in radius lengths)\n",
      "        - compactness (perimeter^2 / area - 1.0)\n",
      "        - concavity (severity of concave portions of the contour)\n",
      "        - concave points (number of concave portions of the contour)\n",
      "        - symmetry \n",
      "        - fractal dimension (\"coastline approximation\" - 1)\n",
      "\n",
      "        The mean, standard error, and \"worst\" or largest (mean of the three\n",
      "        largest values) of these features were computed for each image,\n",
      "        resulting in 30 features.  For instance, field 3 is Mean Radius, field\n",
      "        13 is Radius SE, field 23 is Worst Radius.\n",
      "\n",
      "        - class:\n",
      "                - WDBC-Malignant\n",
      "                - WDBC-Benign\n",
      "\n",
      "    :Summary Statistics:\n",
      "\n",
      "    ===================================== ====== ======\n",
      "                                           Min    Max\n",
      "    ===================================== ====== ======\n",
      "    radius (mean):                        6.981  28.11\n",
      "    texture (mean):                       9.71   39.28\n",
      "    perimeter (mean):                     43.79  188.5\n",
      "    area (mean):                          143.5  2501.0\n",
      "    smoothness (mean):                    0.053  0.163\n",
      "    compactness (mean):                   0.019  0.345\n",
      "    concavity (mean):                     0.0    0.427\n",
      "    concave points (mean):                0.0    0.201\n",
      "    symmetry (mean):                      0.106  0.304\n",
      "    fractal dimension (mean):             0.05   0.097\n",
      "    radius (standard error):              0.112  2.873\n",
      "    texture (standard error):             0.36   4.885\n",
      "    perimeter (standard error):           0.757  21.98\n",
      "    area (standard error):                6.802  542.2\n",
      "    smoothness (standard error):          0.002  0.031\n",
      "    compactness (standard error):         0.002  0.135\n",
      "    concavity (standard error):           0.0    0.396\n",
      "    concave points (standard error):      0.0    0.053\n",
      "    symmetry (standard error):            0.008  0.079\n",
      "    fractal dimension (standard error):   0.001  0.03\n",
      "    radius (worst):                       7.93   36.04\n",
      "    texture (worst):                      12.02  49.54\n",
      "    perimeter (worst):                    50.41  251.2\n",
      "    area (worst):                         185.2  4254.0\n",
      "    smoothness (worst):                   0.071  0.223\n",
      "    compactness (worst):                  0.027  1.058\n",
      "    concavity (worst):                    0.0    1.252\n",
      "    concave points (worst):               0.0    0.291\n",
      "    symmetry (worst):                     0.156  0.664\n",
      "    fractal dimension (worst):            0.055  0.208\n",
      "    ===================================== ====== ======\n",
      "\n",
      "    :Missing Attribute Values: None\n",
      "\n",
      "    :Class Distribution: 212 - Malignant, 357 - Benign\n",
      "\n",
      "    :Creator:  Dr. William H. Wolberg, W. Nick Street, Olvi L. Mangasarian\n",
      "\n",
      "    :Donor: Nick Street\n",
      "\n",
      "    :Date: November, 1995\n",
      "\n",
      "This is a copy of UCI ML Breast Cancer Wisconsin (Diagnostic) datasets.\n",
      "https://goo.gl/U2Uwz2\n",
      "\n",
      "Features are computed from a digitized image of a fine needle\n",
      "aspirate (FNA) of a breast mass.  They describe\n",
      "characteristics of the cell nuclei present in the image.\n",
      "\n",
      "Separating plane described above was obtained using\n",
      "Multisurface Method-Tree (MSM-T) [K. P. Bennett, \"Decision Tree\n",
      "Construction Via Linear Programming.\" Proceedings of the 4th\n",
      "Midwest Artificial Intelligence and Cognitive Science Society,\n",
      "pp. 97-101, 1992], a classification method which uses linear\n",
      "programming to construct a decision tree.  Relevant features\n",
      "were selected using an exhaustive search in the space of 1-4\n",
      "features and 1-3 separating planes.\n",
      "\n",
      "The actual linear program used to obtain the separating plane\n",
      "in the 3-dimensional space is that described in:\n",
      "[K. P. Bennett and O. L. Mangasarian: \"Robust Linear\n",
      "Programming Discrimination of Two Linearly Inseparable Sets\",\n",
      "Optimization Methods and Software 1, 1992, 23-34].\n",
      "\n",
      "This database is also available through the UW CS ftp server:\n",
      "\n",
      "ftp ftp.cs.wisc.edu\n",
      "cd math-prog/cpo-dataset/machine-learn/WDBC/\n",
      "\n",
      ".. topic:: References\n",
      "\n",
      "   - W.N. Street, W.H. Wolberg and O.L. Mangasarian. Nuclear feature extraction \n",
      "     for breast tumor diagnosis. IS&T/SPIE 1993 International Symposium on \n",
      "     Electronic Imaging: Science and Technology, volume 1905, pages 861-870,\n",
      "     San Jose, CA, 1993.\n",
      "   - O.L. Mangasarian, W.N. Street and W.H. Wolberg. Breast cancer diagnosis and \n",
      "     prognosis via linear programming. Operations Research, 43(4), pages 570-577, \n",
      "     July-August 1995.\n",
      "   - W.H. Wolberg, W.N. Street, and O.L. Mangasarian. Machine learning techniques\n",
      "     to diagnose breast cancer from fine-needle aspirates. Cancer Letters 77 (1994) \n",
      "     163-171.\n",
      "[0.44272026 0.18971182]\n",
      "63.2% of total variance is explained by 2 principal components\n"
     ]
    }
   ],
   "source": [
    "# import libraries\n",
    "import numpy as np\n",
    "import pandas as pd\n",
    "import seaborn as sns\n",
    "import matplotlib.pyplot as plt\n",
    "%matplotlib inline\n",
    "\n",
    "from sklearn.preprocessing import StandardScaler\n",
    "from sklearn.decomposition import PCA\n",
    "from sklearn.datasets import load_breast_cancer\n",
    "\n",
    "# load dataset\n",
    "breast_cancer = load_breast_cancer()\n",
    "\n",
    "type(breast_cancer)\n",
    "# sklearn.utils.Bunch\n",
    "\n",
    "# to see detailed description of dataset\n",
    "print(breast_cancer.DESCR)\n",
    "breast_cancer.data.shape\n",
    "# (569, 30) : 569 datapoints i.e rows and 30 columns\n",
    "\n",
    "breast_cancer.target.shape\n",
    "# (569,) # 569 labels as 0 or 1\n",
    "raw_data = breast_cancer.data\n",
    "\n",
    "# normalized data\n",
    "normalized_data = StandardScaler().fit_transform(raw_data)\n",
    "\n",
    "# initialize pca with 2 components\n",
    "pca = PCA(n_components=2)\n",
    "\n",
    "# fit data\n",
    "pca_data = pca.fit_transform(normalized_data)\n",
    "# Variance explained by principal components\n",
    "print(pca.explained_variance_ratio_)\n",
    "# [0.44272026 0.18971182]\n",
    "\n",
    "# Total Variance explained by principal components\n",
    "total_var = 100 * np.sum(pca.explained_variance_ratio_)\n",
    "print(f'{total_var:.3}% of total variance is explained by 2 principal components')\n",
    "# 63.2% of total variance is explained by 2 principal components"
   ]
  },
  {
   "cell_type": "code",
   "execution_count": 3,
   "metadata": {},
   "outputs": [
    {
     "data": {
      "image/png": "[encoded data removed]",
      "text/plain": [
       "<Figure size 517.625x432 with 1 Axes>"
      ]
     },
     "metadata": {
      "needs_background": "light"
     },
     "output_type": "display_data"
    }
   ],
   "source": [
    "# Create dataframe \n",
    "pca_df = pd.DataFrame(np.vstack((pca_data.T, breast_cancer.target)).T,\n",
    "                      columns = ['x1', 'x2', 'Y'])\n",
    "\n",
    "\n",
    "# Replace 0 with Malignant and 1 with Benign\n",
    "pca_df['Y'].replace(0.0, 'Malignant',inplace=True)\n",
    "pca_df['Y'].replace(1.0, 'Benign',inplace=True)\n",
    "\n",
    "# Check the count of label\n",
    "pca_df.Y.value_counts()\n",
    "\n",
    "# Benign       357\n",
    "# Malignant    212\n",
    "# This count matches with labels as per dataset description\n",
    "\n",
    "# Create Plot\n",
    "# Set palette of colors for different labels\n",
    "pal = dict(Malignant=\"red\", Benign=\"green\")\n",
    "\n",
    "ax = sns.FacetGrid(pca_df, hue='Y', height=6, palette=pal,\n",
    "                   hue_order=[\"Malignant\", \"Benign\"]).\\\n",
    "                   map(plt.scatter, 'x1', 'x2').\\\n",
    "                   add_legend()\n",
    "\n",
    "plt.show()"
   ]
  },
  {
   "cell_type": "code",
   "execution_count": 7,
   "metadata": {},
   "outputs": [
    {
     "data": {
      "text/plain": [
       "Benign       357\n",
       "Malignant    212\n",
       "Name: Y, dtype: int64"
      ]
     },
     "execution_count": 7,
     "metadata": {},
     "output_type": "execute_result"
    }
   ],
   "source": [
    "pca_df.head()\n",
    "df=pca_df\n",
    "pca_df.Y.value_counts()"
   ]
  },
  {
   "cell_type": "code",
   "execution_count": 8,
   "metadata": {},
   "outputs": [
    {
     "data": {
      "text/plain": [
       "Benign       212\n",
       "Malignant    212\n",
       "Name: Y, dtype: int64"
      ]
     },
     "execution_count": 8,
     "metadata": {},
     "output_type": "execute_result"
    }
   ],
   "source": [
    "g = df.groupby('Y')\n",
    "df = pd.DataFrame(g.apply(lambda x: x.sample(g.size().min()).reset_index(drop=True)))\n",
    "df.Y.value_counts()"
   ]
  },
  {
   "cell_type": "code",
   "execution_count": 9,
   "metadata": {},
   "outputs": [
    {
     "data": {
      "text/plain": [
       "Benign       32\n",
       "Malignant    32\n",
       "Name: Y, dtype: int64"
      ]
     },
     "execution_count": 9,
     "metadata": {},
     "output_type": "execute_result"
    }
   ],
   "source": [
    "df = df.sample(frac=.15)\n",
    "df.Y.value_counts()"
   ]
  },
  {
   "cell_type": "code",
   "execution_count": 10,
   "metadata": {},
   "outputs": [
    {
     "data": {
      "image/png": "[encoded data removed]",
      "text/plain": [
       "<Figure size 517.625x432 with 1 Axes>"
      ]
     },
     "metadata": {
      "needs_background": "light"
     },
     "output_type": "display_data"
    }
   ],
   "source": [
    "pal = dict(Malignant=\"red\", Benign=\"green\")\n",
    "\n",
    "ax = sns.FacetGrid(df, hue='Y', height=6, palette=pal,\n",
    "                   hue_order=[\"Malignant\", \"Benign\"]).\\\n",
    "                   map(plt.scatter, 'x1', 'x2').\\\n",
    "                   add_legend()\n",
    "\n",
    "plt.show()"
   ]
  },
  {
   "cell_type": "code",
   "execution_count": 11,
   "metadata": {},
   "outputs": [],
   "source": [
    "X=df.iloc[:,0:2].to_numpy()\n",
    "Y=df.iloc[:,2].to_numpy()\n",
    "Y=np.where(Y=='Benign', 0, 1)"
   ]
  },
  {
   "cell_type": "code",
   "execution_count": null,
   "metadata": {},
   "outputs": [],
   "source": [
    "# # pad the vectors to size 2^2 with constant values\n",
    "# padding = 0.3 * np.ones((len(X), 1))\n",
    "# X_pad = np.c_[np.c_[X, padding], np.zeros((len(X), 1))]\n",
    "# print(\"First X sample (padded)    :\", X_pad[0])\n",
    "\n",
    "# # normalize each input\n",
    "# normalization = np.sqrt(np.sum(X_pad ** 2, -1))\n",
    "# X_norm = (X_pad.T / normalization).T\n",
    "# print(\"First X sample (normalized):\", X_norm[0])\n",
    "\n",
    "# # angles for state preparation are new features\n",
    "# features = np.nan_to_num((np.array([get_angles(x) for x in X_norm])))\n",
    "# print(\"First features sample      :\", features[0])"
   ]
  },
  {
   "cell_type": "code",
   "execution_count": 12,
   "metadata": {},
   "outputs": [
    {
     "name": "stdout",
     "output_type": "stream",
     "text": [
      "First X sample (normalized): [0.99997053 0.00767715]\n"
     ]
    }
   ],
   "source": [
    "# normalize each input\n",
    "normalization = np.sqrt(np.sum(X ** 2, -1))\n",
    "X_norm = (X.T / normalization).T\n",
    "print(\"First X sample (normalized):\", X_norm[5])"
   ]
  },
  {
   "cell_type": "code",
   "execution_count": 13,
   "metadata": {},
   "outputs": [],
   "source": [
    "def get_Sx(ang=None, x=None, pad=False):\n",
    "    backend = Aer.get_backend('unitary_simulator')\n",
    "\n",
    "    if pad==True:\n",
    "        q = QuantumRegister(2)\n",
    "        circuit = QuantumCircuit(q)\n",
    "        circuit = state_preparation(ang, circuit, [0, 1])\n",
    "    elif pad==False:\n",
    "        x = x.astype(complex)\n",
    "        q = QuantumRegister(1)\n",
    "        circuit = QuantumCircuit(q)\n",
    "        circuit.initialize(x, [q])\n",
    "\n",
    "    job = execute(circuit, backend)\n",
    "    result = job.result()\n",
    "    U = result.get_unitary(circuit)\n",
    "    S = Operator(U)\n",
    "    return S"
   ]
  },
  {
   "cell_type": "code",
   "execution_count": 14,
   "metadata": {},
   "outputs": [],
   "source": [
    "def linear_operator(param, pad=False):\n",
    "    backend = Aer.get_backend('unitary_simulator')\n",
    "    '''pad variable influences the size of params vector'''\n",
    "    if pad==True:\n",
    "        data = QuantumRegister(2)\n",
    "        qc = QuantumCircuit(data_reg)\n",
    "        qc.u3(param[0], param[1], param[2], data[0])\n",
    "        qc.u3(param[3], param[4], param[5], data[1])\n",
    "        qc.cx(data[0], data[1])\n",
    "    elif pad==False:\n",
    "        data = QuantumRegister(1)\n",
    "        qc = QuantumCircuit(data)\n",
    "        qc.u3(param[0], param[1], param[2], data)\n",
    "\n",
    "    job = execute(qc, backend)\n",
    "    result = job.result()\n",
    "\n",
    "    U = result.get_unitary(qc)\n",
    "    G = Operator(U)\n",
    "    return G\n"
   ]
  },
  {
   "cell_type": "code",
   "execution_count": 15,
   "metadata": {},
   "outputs": [],
   "source": [
    "\n",
    "def sigma(pad=False):\n",
    "    backend = Aer.get_backend('unitary_simulator')\n",
    "    if pad==True:\n",
    "        data = QuantumRegister(2)\n",
    "        qc = QuantumCircuit(data)\n",
    "        qc.id(data)\n",
    "    if pad==False:\n",
    "        data = QuantumRegister(1)\n",
    "        qc = QuantumCircuit(data)\n",
    "        qc.id(data)\n",
    "\n",
    "    job = execute(qc, backend)\n",
    "    result = job.result()\n",
    "\n",
    "    U = result.get_unitary(qc)\n",
    "    I = Operator(U)\n",
    "    return I"
   ]
  },
  {
   "cell_type": "code",
   "execution_count": 16,
   "metadata": {},
   "outputs": [],
   "source": [
    "def R_gate(beta):\n",
    "    backend = Aer.get_backend('unitary_simulator')\n",
    "    control = QuantumRegister(1)\n",
    "    qc = QuantumCircuit(control)\n",
    "    qc.ry(beta, control)\n",
    "\n",
    "    job = execute(qc, backend)\n",
    "    result = job.result()\n",
    "\n",
    "    U = result.get_unitary(qc)\n",
    "    R = Operator(U)\n",
    "    return R"
   ]
  },
  {
   "cell_type": "code",
   "execution_count": 17,
   "metadata": {},
   "outputs": [],
   "source": [
    "def create_circuit(parameters=None, x=None, pad=False):\n",
    "    beta = parameters[0]\n",
    "    theta1 = parameters[1:4]\n",
    "    theta2 = parameters[4:7]\n",
    "\n",
    "    control = QuantumRegister(1, 'control')\n",
    "    data = QuantumRegister(1, 'x')\n",
    "    temp = QuantumRegister(1, 'temp')\n",
    "    c = ClassicalRegister(1)\n",
    "    qc = QuantumCircuit(control, data, temp, c)\n",
    "\n",
    "    S=get_Sx(x=x)\n",
    "    qc.unitary(S, data, label='$S_{x}$')\n",
    "\n",
    "    R=R_gate(beta)\n",
    "    qc.unitary(R, control, label='$R_{Y}(β)$')\n",
    "\n",
    "    qc.barrier()\n",
    "    qc.cswap(control, data, temp)\n",
    "\n",
    "    G1 = linear_operator(theta1)\n",
    "    qc.unitary(G1, data, label='$G(θ_{1})$')\n",
    "\n",
    "    G2 = linear_operator(theta2)\n",
    "    qc.unitary(G2, temp, label='$G(θ_{2})$')\n",
    "\n",
    "    qc.cswap(control, data, temp)\n",
    "    qc.barrier()\n",
    "\n",
    "    sig = sigma()\n",
    "    qc.unitary(sig, data, label='$Σ$')\n",
    "\n",
    "    qc.barrier()\n",
    "    qc.measure(data[0], c)\n",
    "    return qc\n",
    "\n"
   ]
  },
  {
   "cell_type": "code",
   "execution_count": 18,
   "metadata": {},
   "outputs": [
    {
     "data": {
      "image/png": "[encoded data removed]",
      "text/plain": [
       "<Figure size 862.107x264.88 with 1 Axes>"
      ]
     },
     "execution_count": 18,
     "metadata": {},
     "output_type": "execute_result"
    }
   ],
   "source": [
    "c=create_circuit(parameters=range(7), x=np.array([0,1]))\n",
    "c.draw(output='mpl')"
   ]
  },
  {
   "cell_type": "code",
   "execution_count": 19,
   "metadata": {},
   "outputs": [],
   "source": [
    "def execute_circuit(parameters, x=None, shots=1000, print=False):\n",
    "    backend = BasicAer.get_backend('qasm_simulator')\n",
    "\n",
    "    circuit=create_circuit(parameters, x)\n",
    "    if print:\n",
    "        circuit.draw(output='mpl')\n",
    "        plt.show()\n",
    "    result = execute(circuit, backend, shots=shots).result()\n",
    "\n",
    "    counts = result.get_counts(circuit)\n",
    "    result = np.zeros(2)\n",
    "    for key in counts:\n",
    "        result[int(key, 2)] = counts[key]\n",
    "    result /= shots\n",
    "    return result[1]\n",
    "\n",
    "\n",
    "\n",
    "def cost(params, X, labels):\n",
    "    predictions = [execute_circuit(params, x) for x in X]\n",
    "    return binary_crossentropy(labels, predictions)"
   ]
  },
  {
   "cell_type": "code",
   "execution_count": 20,
   "metadata": {},
   "outputs": [],
   "source": [
    "X = X_norm.copy()\n",
    "# seed = 974 # iris:359, gaussian:527\n",
    "seed=np.random.randint(0,10**3,1)[0]\n",
    "np.random.seed(seed)\n",
    "current_params = (0.1*np.random.randn(7))\n",
    "\n",
    "from qiskit.aqua.components.optimizers import AQGD\n",
    "optimizer_step = AQGD(maxiter=1, eta=2.0, disp=False)\n",
    "execute_circuit(current_params, x=X[2], print=True)\n",
    "\n",
    "\n",
    "num_data = len(Y)\n",
    "num_train = int(0.75 * num_data)\n",
    "index = np.random.permutation(range(num_data))\n",
    "X_train = X[index[:num_train]]\n",
    "Y_train = Y[index[:num_train]]\n",
    "X_val = X[index[num_train:]]\n",
    "Y_val = Y[index[num_train:]]\n",
    "batch_size = 10\n",
    "T = 10\n",
    "acc_final_tr = 0\n",
    "acc_final_val = 0"
   ]
  },
  {
   "cell_type": "code",
   "execution_count": 21,
   "metadata": {},
   "outputs": [
    {
     "name": "stdout",
     "output_type": "stream",
     "text": [
      "Iteration: 0 \t| Energy: 1.3232868781770597\n",
      "Iteration: 1 \t| Energy: 1.3622352325715112\n",
      "Iteration: 2 \t| Energy: 1.1152395761893408\n",
      "Iteration: 3 \t| Energy: 0.8621509874861745\n",
      "Iteration: 4 \t| Energy: 0.586334496757512\n",
      "Iteration: 5 \t| Energy: 0.20960591880959015\n",
      "Iteration: 6 \t| Energy: 0.28703415345500505\n",
      "Iteration: 7 \t| Energy: 0.31401558194820683\n",
      "Iteration: 8 \t| Energy: 0.23781216412770356\n",
      "Iteration: 9 \t| Energy: 0.20221285488008064\n",
      "Iteration: 10 \t| Energy: 0.20636739325134631\n"
     ]
    }
   ],
   "source": [
    "optimizer_step = AQGD(maxiter=10, eta=2.0, disp=True)\n",
    "\n",
    "obj_function = lambda params: cost(params, X_train, Y_train)\n",
    "point, value, nfev = optimizer_step.optimize(len(current_params), obj_function, initial_point=current_params)"
   ]
  },
  {
   "cell_type": "code",
   "execution_count": null,
   "metadata": {},
   "outputs": [],
   "source": [
    "for i in range(T):\n",
    "    batch_index = np.random.randint(0, num_train, (batch_size,))\n",
    "    X_batch = X_train[batch_index]\n",
    "    Y_batch = Y_train[batch_index]\n",
    "\n",
    "    obj_function = lambda params: cost(params, X_batch, Y_batch)\n",
    "    point, value, nfev = optimizer_step.optimize(len(current_params), obj_function,\n",
    "                                                 initial_point=current_params)\n",
    "    current_params = point\n",
    "    print(\n",
    "        \"Iter: {:5d} | Cost: {:0.7f}\"\n",
    "        \"\".format(i + 1, cost(current_params, X_train, Y_train)))\n",
    "\n",
    "    # Compute predictions on train and validation set\n",
    "    # probs_train = [execute_circuit(point, x) for x in X_train]\n",
    "    # probs_val = [execute_circuit(point, x) for x in X_val]\n",
    "\n",
    "    # predictions_train = [predict(p) for p in probs_train]\n",
    "    # predictions_val = [predict(p) for p in probs_val]\n",
    "\n",
    "    # acc_train = accuracy(Y_train, predictions_train)\n",
    "    # acc_val = accuracy(Y_val, predictions_val)\n",
    "\n",
    "#     if acc_final_tr < acc_train:\n",
    "#         best_param = point\n",
    "#         acc_final_tr = acc_train\n",
    "#         acc_final_val = acc_val\n",
    "#         best_seed = seed\n",
    "#         iteration = i\n",
    "\n",
    "#     print(\n",
    "#         \"Iter: {:5d} | Cost: {:0.7f} | Acc train: {:0.3f} | Acc validation: {:0.3f} \"\n",
    "#         \"\".format(i + 1, cost(point, X_train, Y_train), acc_train, acc_val))"
   ]
  },
  {
   "cell_type": "code",
   "execution_count": null,
   "metadata": {},
   "outputs": [],
   "source": [
    "probs_train = [execute_circuit(point, x) for x in X_train]\n",
    "probs_val = [execute_circuit(point, x) for x in X_val]\n",
    "\n",
    "predictions_train = [predict(p) for p in probs_train]\n",
    "predictions_val = [predict(p) for p in probs_val]\n",
    "\n",
    "acc_train = accuracy(Y_train, predictions_train)\n",
    "acc_val = accuracy(Y_val, predictions_val)\n",
    "\n",
    "print(\"Final model: Cost: {:0.7f} | Acc train: {:0.3f} | Acc validation: {:0.3f} \"\n",
    "      \"\".format(cost(point, X_train, Y_train), acc_train, acc_val))"
   ]
  },
  {
   "cell_type": "code",
   "execution_count": null,
   "metadata": {},
   "outputs": [],
   "source": [
    "probs_train = [execute_circuit(point, x) for x in X_train]\n",
    "probs_val = [execute_circuit(point, x) for x in X_val]\n",
    "\n",
    "predictions_train = [predict(p) for p in probs_train]\n",
    "predictions_val = [predict(p) for p in probs_val]\n",
    "\n",
    "acc_train = accuracy(Y_train, predictions_train)\n",
    "acc_val = accuracy(Y_val, predictions_val)\n",
    "\n",
    "print(\"Final model: Cost: {:0.7f} | Acc train: {:0.3f} | Acc validation: {:0.3f} \"\n",
    "      \"\".format(cost(current_params, X_train, Y_train), acc_train, acc_val))"
   ]
  },
  {
   "cell_type": "code",
   "execution_count": null,
   "metadata": {},
   "outputs": [],
   "source": [
    "print(\"Final model: Cost: {:0.7f} | Acc train: {:0.3f} | Acc validation: {:0.3f} \"\n",
    "      \"\".format(cost(current_params, X_train, Y_train), acc_final_tr, acc_final_val))"
   ]
  }
 ],
 "metadata": {
  "kernelspec": {
   "display_name": "Python 3",
   "language": "python",
   "name": "python3"
  },
  "language_info": {
   "codemirror_mode": {
    "name": "ipython",
    "version": 3
   },
   "file_extension": ".py",
   "mimetype": "text/x-python",
   "name": "python",
   "nbconvert_exporter": "python",
   "pygments_lexer": "ipython3",
   "version": "3.6.9"
  },
  "toc": {
   "base_numbering": 1,
   "nav_menu": {},
   "number_sections": true,
   "sideBar": true,
   "skip_h1_title": false,
   "title_cell": "Table of Contents",
   "title_sidebar": "Contents",
   "toc_cell": false,
   "toc_position": {},
   "toc_section_display": true,
   "toc_window_display": false
  }
 },
 "nbformat": 4,
 "nbformat_minor": 4
}
